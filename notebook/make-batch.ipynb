{
 "cells": [
  {
   "cell_type": "code",
   "execution_count": null,
   "metadata": {},
   "outputs": [],
   "source": [
    "%pip install splitfolders\n",
    "import splitfolders # type: ignore"
   ]
  },
  {
   "cell_type": "code",
   "execution_count": null,
   "metadata": {},
   "outputs": [],
   "source": [
    "# mini-batch-input-1, mini-batch-input-2, test\n",
    "splitfolders.ratio(\"./data\", output=\"./mini-batch-1\",\n",
    "                   seed=1337, ratio=(.45, .45, .1), group_prefix=None, move=False)"
   ]
  },
  {
   "cell_type": "code",
   "execution_count": null,
   "metadata": {},
   "outputs": [],
   "source": [
    "# train, valid\n",
    "splitfolders.ratio(\"./mini-batch-input-1\", output=\"./mini-batch-1\",\n",
    "                   seed=1337, ratio=(.8, .2), group_prefix=None, move=False)"
   ]
  },
  {
   "cell_type": "code",
   "execution_count": null,
   "metadata": {},
   "outputs": [],
   "source": [
    "# train, valid\n",
    "splitfolders.ratio(\"./mini-batch-input-2\", output=\"./mini-batch-2\",\n",
    "                   seed=1337, ratio=(.8, .2), group_prefix=None, move=False)"
   ]
  }
 ],
 "metadata": {
  "kernelspec": {
   "display_name": "Python 3",
   "language": "python",
   "name": "python3"
  },
  "language_info": {
   "codemirror_mode": {
    "name": "ipython",
    "version": 3
   },
   "file_extension": ".py",
   "mimetype": "text/x-python",
   "name": "python",
   "nbconvert_exporter": "python",
   "pygments_lexer": "ipython3",
   "version": "3.10.4"
  }
 },
 "nbformat": 4,
 "nbformat_minor": 2
}
