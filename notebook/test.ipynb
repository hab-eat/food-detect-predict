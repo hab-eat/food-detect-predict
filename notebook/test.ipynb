{
 "cells": [
  {
   "cell_type": "code",
   "execution_count": null,
   "metadata": {},
   "outputs": [],
   "source": [
    "from ultralytics import YOLO # type: ignore\n",
    "model = YOLO(\"runs/classify/train2/weights/best.pt\")\n",
    "results = model('test.png')\n",
    "for result in results:\n",
    "    probs = result.probs\n",
    "    class_index = probs.top1\n",
    "    class_name = result.names[class_index]\n",
    "    score = float(probs.top1conf)\n",
    "\n",
    "    print(probs)\n",
    "    print(class_index)\n",
    "    print(class_name)\n",
    "    print(score)"
   ]
  },
  {
   "cell_type": "code",
   "execution_count": null,
   "metadata": {},
   "outputs": [],
   "source": [
    "metrics = model.val()\n",
    "metrics.top1\n",
    "metrics.top5\n",
    "print(metrics)"
   ]
  }
 ],
 "metadata": {
  "kernelspec": {
   "display_name": "Python 3",
   "language": "python",
   "name": "python3"
  },
  "language_info": {
   "codemirror_mode": {
    "name": "ipython",
    "version": 3
   },
   "file_extension": ".py",
   "mimetype": "text/x-python",
   "name": "python",
   "nbconvert_exporter": "python",
   "pygments_lexer": "ipython3",
   "version": "3.10.4"
  }
 },
 "nbformat": 4,
 "nbformat_minor": 2
}
